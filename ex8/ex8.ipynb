{
 "cells": [
  {
   "cell_type": "code",
   "execution_count": null,
   "metadata": {},
   "outputs": [],
   "source": [
    "import numpy as np\n",
    "import scipy.io\n",
    "from scipy.stats import multivariate_normal\n",
    "import matplotlib.pyplot as plt\n",
    "\n",
    "%matplotlib inline"
   ]
  },
  {
   "cell_type": "code",
   "execution_count": null,
   "metadata": {},
   "outputs": [],
   "source": [
    "data1 = scipy.io.loadmat('ex8data1.mat')\n",
    "X = data1['X']\n",
    "Xval = data1['Xval']\n",
    "yval = data1['yval']"
   ]
  },
  {
   "cell_type": "code",
   "execution_count": null,
   "metadata": {},
   "outputs": [],
   "source": [
    "print('Visualizing example dataset for outlier detection.')\n",
    "\n",
    "plt.plot(X[:, 0], X[:, 1], 'bx')\n",
    "plt.axis([0, 30, 0, 30])\n",
    "plt.xlabel('Latency (ms)')\n",
    "plt.ylabel('Throughput (mb/s)')\n",
    "plt.show()"
   ]
  },
  {
   "cell_type": "code",
   "execution_count": null,
   "metadata": {},
   "outputs": [],
   "source": [
    "def estimate_gaussian(X):\n",
    "    m, n = X.shape\n",
    "    mu = np.mean(X, axis=0, keepdims=True)\n",
    "    assert mu.shape == (1, n)\n",
    "    sigma2 = np.mean(np.square(X - mu), axis=0, keepdims=True)\n",
    "    assert sigma2.shape == (1, n)\n",
    "    \n",
    "    return mu.reshape(n), sigma2.reshape(n)"
   ]
  },
  {
   "cell_type": "code",
   "execution_count": null,
   "metadata": {},
   "outputs": [],
   "source": [
    "def multivariate_gaussian(X, mu, sigma2):\n",
    "    return multivariate_normal.pdf(X, mean=mu, cov=sigma2)"
   ]
  },
  {
   "cell_type": "code",
   "execution_count": null,
   "metadata": {},
   "outputs": [],
   "source": [
    "def frange(start, end=None, inc=None):\n",
    "    \"A range function, that does accept float increments...\"\n",
    "\n",
    "    if end == None:\n",
    "        end = start + 0.0\n",
    "        start = 0.0\n",
    "\n",
    "    if inc == None:\n",
    "        inc = 1.0\n",
    "\n",
    "    L = []\n",
    "    while 1:\n",
    "        next = start + len(L) * inc\n",
    "        if inc > 0 and next >= end:\n",
    "            break\n",
    "        elif inc < 0 and next <= end:\n",
    "            break\n",
    "        L.append(next)\n",
    "        \n",
    "    return L\n",
    "\n",
    "def visualize_fit(X, mu, sigma2):\n",
    "    xx = frange(0, 35.5, 0.5)\n",
    "    X1, X2 = np.meshgrid(xx, xx)\n",
    "    XX = np.concatenate([X1.reshape((-1, 1)), X2.reshape((-1, 1))], axis=1)\n",
    "\n",
    "    Z = multivariate_gaussian(XX, mu, sigma2)\n",
    "    Z = Z.reshape(X1.shape)\n",
    "    \n",
    "    plt.plot(X[:, 0], X[:, 1], 'bx')\n",
    "    plt.contour(X1, X2, Z, np.power(10., range(-20, 0, 3)))"
   ]
  },
  {
   "cell_type": "code",
   "execution_count": null,
   "metadata": {},
   "outputs": [],
   "source": [
    "print('Visualizing Gaussian fit.')\n",
    "\n",
    "mu, sigma2 = estimate_gaussian(X)\n",
    "p = multivariate_gaussian(X, mu, sigma2)\n",
    "\n",
    "visualize_fit(X,  mu, sigma2)\n",
    "plt.xlabel('Latency (ms)')\n",
    "plt.ylabel('Throughput (mb/s)')"
   ]
  },
  {
   "cell_type": "code",
   "execution_count": null,
   "metadata": {},
   "outputs": [],
   "source": [
    "   "
   ]
  }
 ],
 "metadata": {
  "kernelspec": {
   "display_name": "Python 3",
   "language": "python",
   "name": "python3"
  },
  "language_info": {
   "codemirror_mode": {
    "name": "ipython",
    "version": 3
   },
   "file_extension": ".py",
   "mimetype": "text/x-python",
   "name": "python",
   "nbconvert_exporter": "python",
   "pygments_lexer": "ipython3",
   "version": "3.5.0"
  }
 },
 "nbformat": 4,
 "nbformat_minor": 2
}
