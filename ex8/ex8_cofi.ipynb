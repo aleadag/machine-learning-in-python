{
 "cells": [
  {
   "cell_type": "code",
   "execution_count": null,
   "metadata": {},
   "outputs": [],
   "source": [
    "import scipy.io\n",
    "import tensorflow as tf\n",
    "import numpy as np"
   ]
  },
  {
   "cell_type": "code",
   "execution_count": null,
   "metadata": {},
   "outputs": [],
   "source": [
    "movies = scipy.io.loadmat('ex8_movies.mat')\n",
    "\n",
    "R_train = movies['R']\n",
    "Y_train = movies['Y']\n",
    "\n",
    "print('R shape is: ' + str(R_train.shape))\n",
    "print('Y shape is: ' + str(Y_train.shape))"
   ]
  },
  {
   "cell_type": "code",
   "execution_count": null,
   "metadata": {},
   "outputs": [],
   "source": [
    "def create_placeholders(num_movies, num_users):\n",
    "    \"\"\"\n",
    "    Creates the placeholders for the tensorflow session.\n",
    "\n",
    "    Arguments:\n",
    "    num_movies -- scalar, number of movies\n",
    "    num_users -- scalar, number of users\n",
    "\n",
    "    Returns:\n",
    "    R -- placeholder for the binary-valued indicator matrix, of shape [num_movies, num_users] and dtype \"float\"\n",
    "    Y -- placeholder for the ratings, of shape [num_movies, num_users] and dtype \"float\"\n",
    "    \"\"\"\n",
    "    R = tf.placeholder(tf.float32, [num_movies, num_users], name='R')\n",
    "    Y = tf.placeholder(tf.float32, [num_movies, num_users], name='Y')\n",
    "\n",
    "    return R, Y\n",
    "\n",
    "def initialize_parameters(num_movies, num_users, num_features):\n",
    "    \"\"\"\n",
    "    Initializes weight parameters to build a neural network with tensorflow. The shapes are:\n",
    "                        X : [num_movies, num_features]\n",
    "                        Theta : [num_users, num_features]\n",
    "    Returns:\n",
    "    parameters -- a dictionary of tensors containing X, Theta\n",
    "    \"\"\"\n",
    "\n",
    "    with tf.variable_scope(\"cofi-model\", reuse=tf.AUTO_REUSE):\n",
    "        X = tf.get_variable('X-{0}-{1}'.format(num_movies, num_features), [num_movies, num_features], initializer=tf.contrib.layers.xavier_initializer(seed=0))\n",
    "        Theta = tf.get_variable('Theta-{0}-{1}'.format(num_movies, num_features), [num_users, num_features], initializer=tf.contrib.layers.xavier_initializer(seed=0))\n",
    "\n",
    "        parameters = {\"X\": X,\n",
    "                      \"Theta\": Theta}\n",
    "\n",
    "    return parameters\n",
    "\n",
    "def compute_cost(R, Y, parameters):\n",
    "    X = parameters['X']\n",
    "    Theta = parameters['Theta']\n",
    "    ones = tf.ones_like(R)\n",
    "    mask = tf.equal(R, ones)\n",
    "    return tf.reduce_sum(tf.square(tf.boolean_mask(tf.subtract(tf.matmul(X, tf.transpose(Theta)), Y), mask))) / 2.\n",
    "\n",
    "def model(R_train, Y_train, num_features=10, num_iter=1000, learning_rate=0.0001, print_cost=True):\n",
    "    assert(R_train.shape == Y_train.shape)\n",
    "    num_movies, num_users = Y_train.shape\n",
    "\n",
    "    R, Y = create_placeholders(num_movies, num_users)\n",
    "    parameters = initialize_parameters(num_movies, num_users, num_features)\n",
    "    X = parameters['X']\n",
    "    Theta = parameters['Theta']\n",
    "\n",
    "    cost = compute_cost(R, Y, parameters)\n",
    "    optimizer = tf.train.GradientDescentOptimizer(learning_rate).minimize(cost)\n",
    "\n",
    "    init = tf.global_variables_initializer()\n",
    "    with tf.Session() as sess:\n",
    "        sess.run(init)\n",
    "        for i in range(num_iter):\n",
    "            _, curr_cost = sess.run([optimizer, cost], feed_dict={R: R_train, Y: Y_train})\n",
    "            if print_cost and i % 100 == 0:\n",
    "                print(str(i) + ' iter, cost = ' + str(curr_cost))\n",
    "        return sess.run([X, Theta])\n",
    "\n",
    "def load_movie_list(fname):\n",
    "    movie_list = []\n",
    "    with open(fname, encoding='latin-1') as f:\n",
    "        for line in f:\n",
    "            words = line.split(' ')\n",
    "            movie_list.append(' '.join(words[1:]).strip())\n",
    "    return movie_list\n",
    "\n",
    "def normalize_ratings(Y, R):\n",
    "    m, n = Y.shape\n",
    "    Ymean = np.zeros((m, 1));\n",
    "    Ynorm = np.zeros(Y.shape);\n",
    "    for i in range(m):\n",
    "        idx = np.argwhere(R[i, :] == 1)\n",
    "        Ymean[i] = np.mean(Y[i, idx])\n",
    "        Ynorm[i, idx] = Y[i, idx] - Ymean[i]\n",
    "    return Ymean, Ynorm"
   ]
  },
  {
   "cell_type": "code",
   "execution_count": null,
   "metadata": {},
   "outputs": [],
   "source": [
    "def check_cost():\n",
    "    num_users = 4\n",
    "    num_movies = 5\n",
    "    num_features = 3;\n",
    "\n",
    "    R, Y = create_placeholders(num_movies, num_users)\n",
    "    parameters = initialize_parameters(num_movies, num_users, num_features)\n",
    "\n",
    "    movie_params = scipy.io.loadmat('ex8_movieParams.mat')\n",
    "    movies = scipy.io.loadmat('ex8_movies.mat')\n",
    "\n",
    "    R_train = movies['R'][0:num_movies, 0:num_users]\n",
    "    Y_train = movies['Y'][0:num_movies, 0:num_users]\n",
    "\n",
    "    with tf.Session() as sess:\n",
    "        parameters['X'] = parameters['X'].assign(movie_params['X'][0:num_movies, 0:num_features])\n",
    "        parameters['Theta'] = parameters['Theta'].assign(movie_params['Theta'][0:num_users, 0:num_features])\n",
    "        cost = sess.run(compute_cost(R, Y, parameters), feed_dict={R: R_train, Y: Y_train})\n",
    "        print('The cost is: ' + str(cost))\n"
   ]
  },
  {
   "cell_type": "code",
   "execution_count": null,
   "metadata": {},
   "outputs": [],
   "source": [
    "check_cost()"
   ]
  },
  {
   "cell_type": "markdown",
   "metadata": {},
   "source": [
    "The cost should be around 22.22"
   ]
  },
  {
   "cell_type": "code",
   "execution_count": null,
   "metadata": {},
   "outputs": [],
   "source": [
    "movie_list = load_movie_list('movie_ids.txt')\n",
    "\n",
    "# Initialize my ratings\n",
    "my_ratings = np.zeros([1682, 1]);\n",
    "\n",
    "# Check the file movie_idx.txt for id of each movie in our dataset\n",
    "# For example, Toy Story (1995) has ID 1, so to rate it \"4\", you can set\n",
    "my_ratings[0] = 4.\n",
    "\n",
    "# Or suppose did not enjoy Silence of the Lambs (1991), you can set\n",
    "my_ratings[97] = 2.\n",
    "\n",
    "# We have selected a few movies we liked / did not like and the ratings we\n",
    "# gave are as follows:\n",
    "my_ratings[6]   = 3.\n",
    "my_ratings[11]  = 5.\n",
    "my_ratings[53]  = 4.\n",
    "my_ratings[63]  = 5.\n",
    "my_ratings[65]  = 3.\n",
    "my_ratings[68]  = 5.\n",
    "my_ratings[182] = 4.\n",
    "my_ratings[225] = 5.\n",
    "my_ratings[354] = 5."
   ]
  },
  {
   "cell_type": "code",
   "execution_count": null,
   "metadata": {},
   "outputs": [],
   "source": [
    "Y_train = np.concatenate((my_ratings, Y_train), axis=1)\n",
    "R_train = np.concatenate((my_ratings != 0, R_train), axis=1)\n",
    "\n",
    "print('The new R shape is: ' + str(R_train.shape))\n",
    "print('The new Y shape is: ' + str(Y_train.shape))"
   ]
  },
  {
   "cell_type": "code",
   "execution_count": null,
   "metadata": {},
   "outputs": [],
   "source": [
    "Ymean, Ynorm = normalize_ratings(Y_train, R_train)"
   ]
  },
  {
   "cell_type": "code",
   "execution_count": null,
   "metadata": {},
   "outputs": [],
   "source": [
    "X, Theta = model(R_train, Ynorm, num_features=100, num_iter=100)"
   ]
  },
  {
   "cell_type": "code",
   "execution_count": null,
   "metadata": {},
   "outputs": [],
   "source": [
    "p = np.matmul(X, Theta.T)\n",
    "predictions = np.reshape(p[:, 0], Ymean.shape[0]) + np.reshape(Ymean, Ymean.shape[0])\n",
    "idx = list(reversed(np.argsort(predictions)))\n",
    "print('Top recommendations for you:')\n",
    "for i in range(10):\n",
    "    j = idx[i]\n",
    "    print('Predicting rating {0:.1f} for movie {1}'.format(predictions[j], movie_list[j]))\n",
    "\n",
    "print('Original ratings provided:');\n",
    "for i, rating in enumerate(my_ratings.reshape(1682)):\n",
    "    if rating > 0:\n",
    "        print('Rated {0:.1f} for {1}'.format(rating, movie_list[i]))"
   ]
  },
  {
   "cell_type": "code",
   "execution_count": null,
   "metadata": {},
   "outputs": [],
   "source": []
  }
 ],
 "metadata": {
  "kernelspec": {
   "display_name": "Python 3",
   "language": "python",
   "name": "python3"
  },
  "language_info": {
   "codemirror_mode": {
    "name": "ipython",
    "version": 3
   },
   "file_extension": ".py",
   "mimetype": "text/x-python",
   "name": "python",
   "nbconvert_exporter": "python",
   "pygments_lexer": "ipython3",
   "version": "3.5.0"
  }
 },
 "nbformat": 4,
 "nbformat_minor": 2
}
